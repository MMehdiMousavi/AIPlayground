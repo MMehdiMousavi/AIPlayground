{
 "cells": [
  {
   "cell_type": "code",
   "execution_count": 77,
   "metadata": {},
   "outputs": [],
   "source": [
    "from PIL import Image as IMG\n",
    "import numpy as np\n",
    "from pprint import pprint\n",
    "import pandas as pd\n",
    "import runs as R\n",
    "import numpy as np\n",
    "import os\n",
    "sep = os.sep\n",
    "import matplotlib.pyplot as plt\n",
    "import runs\n",
    "from core.measurements import Prf1a"
   ]
  },
  {
   "cell_type": "markdown",
   "metadata": {},
   "source": [
    "### Generate 'Normal' Metrics"
   ]
  },
  {
   "cell_type": "code",
   "execution_count": 78,
   "metadata": {},
   "outputs": [],
   "source": [
    "def theta(pred, label):\n",
    "    u1 = pred/np.linalg.norm(pred, axis=2)[..., None]\n",
    "    u2 = label/np.linalg.norm(label, axis=2)[..., None]\n",
    "    dot = np.einsum('ijk,ijk->ij', u1, u2)\n",
    "    theta = np.rad2deg(np.arccos(np.clip(dot, -1.0, 1.0)))\n",
    "    return theta"
   ]
  },
  {
   "cell_type": "code",
   "execution_count": 79,
   "metadata": {},
   "outputs": [],
   "source": [
    "img_dir = 'EVALDATA/Image/' \n",
    "norm_gt_dir = 'EVALDATA/'+os.sep+'GT_norm'\n",
    "norm_pred_dir = 'EVALDATA/'+os.sep+'Preds'+os.sep+'Norm'"
   ]
  },
  {
   "cell_type": "code",
   "execution_count": 80,
   "metadata": {},
   "outputs": [],
   "source": [
    "L1, L1_sum = 0, 0\n",
    "L2, L2_sum = 0, 0\n",
    "L3, L3_sum = 0, 0\n",
    "for file in os.listdir(img_dir):\n",
    "    img = np.array(IMG.open(img_dir + os.sep + file))\n",
    "    gt_norm = np.array(IMG.open(norm_gt_dir+os.sep+file))[:,:,0:3]\n",
    "    pred_norm = np.array(IMG.open(norm_pred_dir+os.sep+file.split('.')[0]+'_pred.png'))\n",
    "    \n",
    "    th = theta(pred_norm, gt_norm)\n",
    "\n",
    "    L1 += (th<11.5).astype(int).sum()\n",
    "    L1_sum += th.size\n",
    "\n",
    "    L2 += (th<22.5).astype(int).sum()\n",
    "    L2_sum += th.size\n",
    "\n",
    "    L3 += (th<30).astype(int).sum()\n",
    "    L3_sum += th.size"
   ]
  },
  {
   "cell_type": "code",
   "execution_count": 81,
   "metadata": {},
   "outputs": [
    {
     "name": "stdout",
     "output_type": "stream",
     "text": [
      "L1:  0.9430167643229167\n",
      "L2:  0.9725838216145833\n",
      "L3:  0.9826481119791667\n"
     ]
    }
   ],
   "source": [
    "print('L1: ', L1/L1_sum)\n",
    "print('L2: ', L2/L2_sum)\n",
    "print('L3: ', L3/L3_sum)"
   ]
  },
  {
   "cell_type": "markdown",
   "metadata": {},
   "source": [
    "### Generate Segmentation overlap"
   ]
  },
  {
   "cell_type": "code",
   "execution_count": 82,
   "metadata": {},
   "outputs": [],
   "source": [
    "def get_lbl_from_gt(cname, gt):\n",
    "    r, g, b = runs.CLASS_RGB[cname]\n",
    "    lbl = np.zeros_like(gt[:,:,1])\n",
    "    logic = np.logical_and.reduce( [gt[:, :, 0] == r, gt[:, :, 1] == g, gt[:, :, 2] == b])\n",
    "    ix = np.array(list(zip(*np.where(logic))))\n",
    "    if len(ix) > 0:\n",
    "        lbl[ix[:,0], ix[:,1]] = 255\n",
    "    return lbl"
   ]
  },
  {
   "cell_type": "code",
   "execution_count": 83,
   "metadata": {},
   "outputs": [],
   "source": [
    "def get_lbl_from_pred(cname, pred):\n",
    "    cls = runs.CLASS_LABELS[cname]\n",
    "    lbl = np.zeros_like(pred)\n",
    "    ix = np.array(list(zip(*np.where(pred==cls))))\n",
    "    if len(ix) > 0:\n",
    "        lbl[ix[:,0], ix[:,1]] = 255\n",
    "    return lbl"
   ]
  },
  {
   "cell_type": "code",
   "execution_count": 84,
   "metadata": {},
   "outputs": [],
   "source": [
    "img_dir = 'EVALDATA/Image/' \n",
    "seg_gt_dir = 'EVALDATA/'+os.sep+'GT_seg'\n",
    "seg_pred_dir = 'EVALDATA/'+os.sep+'Preds'+os.sep+'Seg'"
   ]
  },
  {
   "cell_type": "code",
   "execution_count": 85,
   "metadata": {},
   "outputs": [],
   "source": [
    "overlap = {}.fromkeys(runs.CLASS_LABELS, None)\n",
    "for k in overlap:\n",
    "    overlap[k] = Prf1a()\n",
    "    \n",
    "for file in os.listdir(img_dir):\n",
    "    img = np.array(IMG.open(img_dir + os.sep + file))\n",
    "    gt_seg = np.array(IMG.open(seg_gt_dir+os.sep+file))[:,:,0:3]\n",
    "    npy_seg =  np.load(seg_pred_dir+os.sep+file.split('.')[0]+'_pred.npy')\n",
    "    for obj in runs.CLASS_RGB:\n",
    "        lbl = get_lbl_from_gt(obj, gt_seg)\n",
    "        pred = get_lbl_from_pred(obj, npy_seg)\n",
    "        if lbl.sum()>0: # if obj is in gt\n",
    "            overlap[obj].add_array(pred, lbl)"
   ]
  },
  {
   "cell_type": "code",
   "execution_count": 67,
   "metadata": {},
   "outputs": [
    {
     "name": "stdout",
     "output_type": "stream",
     "text": [
      "Other 0.84079\n",
      "Table 0.91065\n",
      "Shelve 0.98364\n",
      "Book 0.90388\n",
      "Couch 0.99456\n",
      "Frame 0.98564\n",
      "Lamp 0.95145\n",
      "Plant 0.75344\n",
      "Rug 0.99073\n",
      "Wall 0.99651\n",
      "Floor 0.99753\n",
      "TV 0.98793\n",
      "Window 0.001\n",
      "Curtain 0.99082\n",
      "Door 0.99186\n",
      "Average:  0.885362\n"
     ]
    }
   ],
   "source": [
    "o = []\n",
    "for obj in overlap:\n",
    "    o.append( overlap[obj].overlap)\n",
    "    print(obj, overlap[obj].overlap)\n",
    "print('Average: ', sum(o)/len(o))"
   ]
  },
  {
   "cell_type": "code",
   "execution_count": null,
   "metadata": {},
   "outputs": [],
   "source": []
  },
  {
   "cell_type": "markdown",
   "metadata": {},
   "source": [
    "### Generate RGB classes from prediction"
   ]
  },
  {
   "cell_type": "code",
   "execution_count": 85,
   "metadata": {},
   "outputs": [
    {
     "data": {
      "image/png": "[encoded data removed]",
      "text/plain": [
       "<PIL.Image.Image image mode=RGB size=640x480 at 0x7F4B158B19D0>"
      ]
     },
     "execution_count": 85,
     "metadata": {},
     "output_type": "execute_result"
    }
   ],
   "source": [
    "rgb = np.zeros((npy_seg.shape[0], npy_seg.shape[1], 3), dtype=np.uint8)\n",
    "for cname, lbl in runs.CLASS_LABELS.items():\n",
    "    crgb = runs.CLASS_RGB[cname]\n",
    "    i, j = np.where(npy_seg==lbl)\n",
    "    rgb[i, j, :] = np.array(crgb)\n",
    "IMG.fromarray(rgb)"
   ]
  },
  {
   "cell_type": "code",
   "execution_count": 88,
   "metadata": {},
   "outputs": [],
   "source": []
  },
  {
   "cell_type": "code",
   "execution_count": null,
   "metadata": {},
   "outputs": [],
   "source": []
  },
  {
   "cell_type": "code",
   "execution_count": null,
   "metadata": {},
   "outputs": [],
   "source": []
  }
 ],
 "metadata": {
  "kernelspec": {
   "display_name": "Python 3",
   "language": "python",
   "name": "python3"
  },
  "language_info": {
   "codemirror_mode": {
    "name": "ipython",
    "version": 3
   },
   "file_extension": ".py",
   "mimetype": "text/x-python",
   "name": "python",
   "nbconvert_exporter": "python",
   "pygments_lexer": "ipython3",
   "version": "3.8.2"
  }
 },
 "nbformat": 4,
 "nbformat_minor": 4
}
