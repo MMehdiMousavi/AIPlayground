{
 "cells": [
  {
   "cell_type": "code",
   "execution_count": 41,
   "metadata": {},
   "outputs": [],
   "source": [
    "import numpy as np\n",
    "from PIL import Image as IMG\n",
    "import os\n",
    "from numpy import (array, dot, arccos, clip)\n",
    "from numpy.linalg import norm"
   ]
  },
  {
   "cell_type": "code",
   "execution_count": 8,
   "metadata": {},
   "outputs": [],
   "source": [
    "img_pth = 'Image/'"
   ]
  },
  {
   "cell_type": "code",
   "execution_count": 136,
   "metadata": {},
   "outputs": [],
   "source": [
    "file = '0.png'\n",
    "img = np.array(IMG.open(img_pth + os.sep + file))\n",
    "gt_norm = np.array(IMG.open('GT_norm'+os.sep+file))[:,:,0:3]\n",
    "gt_seg = np.array(IMG.open('GT_seg'+os.sep+file))\n",
    "pred_norm = np.array(IMG.open('Preds'+os.sep+'Norm'+os.sep+file.split('.')[0]+'_pred.png'))\n",
    "npy_seg =  np.load('Preds'+os.sep+'Seg'+os.sep+file.split('.')[0]+'_pred.npy')"
   ]
  },
  {
   "cell_type": "code",
   "execution_count": 128,
   "metadata": {},
   "outputs": [],
   "source": [
    "def unit_vector(vector):\n",
    "    return vector / np.linalg.norm(vector)\n",
    "def angle(v1, v2):\n",
    "    v1_u = unit_vector(v1)\n",
    "    v2_u = unit_vector(v2)\n",
    "    return np.arccos(np.clip(np.dot(v1_u, v2_u), -1.0, 1.0))"
   ]
  },
  {
   "cell_type": "code",
   "execution_count": 129,
   "metadata": {},
   "outputs": [],
   "source": [
    "thetas = []\n",
    "for i in range(pred_norm.shape[0]):\n",
    "    for j in range(pred_norm.shape[1]):\n",
    "        v1 = pred_norm[i, j, 0:3]\n",
    "        v2 = gt_norm[i, j, 0:3]\n",
    "        thetas.append(angle(v1, v2))\n",
    "thetas = np.rad2deg(np.array(thetas))"
   ]
  },
  {
   "cell_type": "code",
   "execution_count": 121,
   "metadata": {},
   "outputs": [],
   "source": [
    "l1_ = (thetas<11.5).astype(int)\n",
    "l2_ = (thetas<22.5).astype(int)\n",
    "l3_ = (thetas<30).astype(int)"
   ]
  },
  {
   "cell_type": "code",
   "execution_count": 122,
   "metadata": {},
   "outputs": [],
   "source": [
    "l1 = sum(l1_)/len(thetas)\n",
    "l2 = sum(l2_)/len(thetas)\n",
    "l3 = sum(l3_)/len(thetas)"
   ]
  },
  {
   "cell_type": "code",
   "execution_count": null,
   "metadata": {},
   "outputs": [],
   "source": []
  },
  {
   "cell_type": "code",
   "execution_count": 133,
   "metadata": {},
   "outputs": [],
   "source": [
    "CLASS_LABELS = {\n",
    "    'Other': 0,\n",
    "    'Table': 1,\n",
    "    'Shelve': 2,\n",
    "    'Book': 3,\n",
    "    'Couch': 4,\n",
    "    'Frame': 5,\n",
    "    'Lamp': 6,\n",
    "    'Plant': 7,\n",
    "    'Rug': 8,\n",
    "    'Wall': 9,\n",
    "    'Floor': 10,\n",
    "    'TV': 11,\n",
    "    'Window': 12,\n",
    "    'Curtain': 13,\n",
    "    'Door': 14}"
   ]
  },
  {
   "cell_type": "code",
   "execution_count": 134,
   "metadata": {},
   "outputs": [],
   "source": [
    "CLASS_RGB = {\n",
    "    'Other': (0, 0, 0),\n",
    "    'Table': (89, 20, 0),\n",
    "    'Shelve': (0, 25, 0),\n",
    "    'Book': (38, 51, 76),\n",
    "    'Couch': (0, 0, 51),\n",
    "    'Frame': (255, 0, 0),\n",
    "    'Lamp': (101, 178, 0),\n",
    "    'Plant': (255, 255, 0),\n",
    "    'Rug': (0, 255, 0),\n",
    "    'Wall': (101, 101, 101),\n",
    "    'Floor': (0, 255, 255),\n",
    "    'TV': (255, 0, 76),\n",
    "    'Window': (204, 204, 153),\n",
    "    'Curtain': (0, 76, 255),\n",
    "    'Door': (255, 0, 255)}"
   ]
  },
  {
   "cell_type": "code",
   "execution_count": 154,
   "metadata": {},
   "outputs": [],
   "source": [
    "def get_lbl(cname, gt):\n",
    "    r, g, b = CLASS_RGB[cname]\n",
    "    cls = np.zeros_like(gt[:,:,1])\n",
    "    logic = np.logical_and.reduce( [gt[:, :, 0] == r, gt[:, :, 1] == g, gt[:, :, 2] == b])\n",
    "    ix = np.array(list(zip(*np.where(logic))))\n",
    "    if len(ix) > 0:\n",
    "        cls[ix[:,0], ix[:,1]] = 1\n",
    "    return cls"
   ]
  },
  {
   "cell_type": "code",
   "execution_count": null,
   "metadata": {},
   "outputs": [],
   "source": []
  },
  {
   "cell_type": "code",
   "execution_count": 158,
   "metadata": {},
   "outputs": [
    {
     "data": {
      "image/png": "[encoded data removed]",
      "text/plain": [
       "<PIL.Image.Image image mode=L size=640x480 at 0x7F86D9CAFFA0>"
      ]
     },
     "execution_count": 158,
     "metadata": {},
     "output_type": "execute_result"
    }
   ],
   "source": []
  },
  {
   "cell_type": "code",
   "execution_count": null,
   "metadata": {},
   "outputs": [],
   "source": []
  }
 ],
 "metadata": {
  "kernelspec": {
   "display_name": "Python 3",
   "language": "python",
   "name": "python3"
  },
  "language_info": {
   "codemirror_mode": {
    "name": "ipython",
    "version": 3
   },
   "file_extension": ".py",
   "mimetype": "text/x-python",
   "name": "python",
   "nbconvert_exporter": "python",
   "pygments_lexer": "ipython3",
   "version": "3.8.2"
  }
 },
 "nbformat": 4,
 "nbformat_minor": 4
}
